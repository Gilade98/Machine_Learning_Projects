{
  "nbformat": 4,
  "nbformat_minor": 0,
  "metadata": {
    "kernelspec": {
      "display_name": "Python 3",
      "name": "python3"
    },
    "language_info": {
      "codemirror_mode": {
        "name": "ipython",
        "version": 3
      },
      "file_extension": ".py",
      "mimetype": "text/x-python",
      "name": "python",
      "nbconvert_exporter": "python",
      "pygments_lexer": "ipython3",
      "version": "3.6.9"
    },
    "colab": {
      "provenance": [],
      "include_colab_link": true
    }
  },
  "cells": [
    {
      "cell_type": "markdown",
      "metadata": {
        "id": "view-in-github",
        "colab_type": "text"
      },
      "source": [
        "<a href=\"https://colab.research.google.com/github/Gilade98/Machine_Learning_Projects/blob/main/The_DS_Toolbox/Ex1_SQL.ipynb\" target=\"_parent\"><img src=\"https://colab.research.google.com/assets/colab-badge.svg\" alt=\"Open In Colab\"/></a>"
      ]
    },
    {
      "cell_type": "markdown",
      "metadata": {
        "id": "_fq8BHLiYCyE"
      },
      "source": [
        "# Homework Assignment 1\n",
        "### [The Art of Analyzing Big Data - The Data Scientist’s Toolbox](https://www.ise.bgu.ac.il/labs/fire/lectures.html)\n",
        "#### By Dr. Michael Fire"
      ]
    },
    {
      "cell_type": "code",
      "source": [
        "from google.colab import drive\n",
        "drive.mount('/content/drive')"
      ],
      "metadata": {
        "id": "-TWmkaXkACJd",
        "outputId": "967dc31e-4250-44d7-e5f1-67b1bcf8bbc3",
        "colab": {
          "base_uri": "https://localhost:8080/"
        }
      },
      "execution_count": null,
      "outputs": [
        {
          "output_type": "stream",
          "name": "stdout",
          "text": [
            "Drive already mounted at /content/drive; to attempt to forcibly remount, call drive.mount(\"/content/drive\", force_remount=True).\n"
          ]
        }
      ]
    },
    {
      "cell_type": "markdown",
      "metadata": {
        "id": "jYvqtKSOYCyG"
      },
      "source": [
        "For this homework you will need to write code that analyzes real-world datasets. The code needs to be written in Python using the [sqlite3](https://docs.python.org/2/library/sqlite3.html) package.\n",
        "\n",
        "**Please note:** You need to answer only the questions that match your ID first digit."
      ]
    },
    {
      "cell_type": "markdown",
      "metadata": {
        "id": "AML-gkV-YCyI"
      },
      "source": [
        "# 1. Babies Names Dataset (35pt)"
      ]
    },
    {
      "cell_type": "markdown",
      "metadata": {
        "id": "jvkBrt7SYCyK"
      },
      "source": [
        "**Task 1 (for everyone):** Write a code that uses the  [**babies names dataset** ](https://www.kaggle.com/kaggle/us-baby-names?select=NationalNames.csv) (use NationalNames.csv) and creates a table named (Names) with the dataset data and the following columns: 'State', 'Gender', 'Name', 'Count' , and 'Year' (5pt)\n",
        "**Bonus:** Load the data using a Batch INSERT SQL Query (2pt)"
      ]
    },
    {
      "cell_type": "code",
      "metadata": {
        "id": "-vrdQhaLYCyL",
        "colab": {
          "base_uri": "https://localhost:8080/"
        },
        "outputId": "85823a0a-d611-4cda-b2dd-a932ddfa2621"
      },
      "source": [
        "!mkdir /root/.kaggle/\n",
        "import json\n",
        "import os\n",
        "\n",
        "# Installing the Kaggle package\n",
        "!pip install kaggle\n",
        "\n",
        "#Important Note: complete this with your own key - after running this for the first time remmember to **remove** your API_KEY\n",
        "\n",
        "\n",
        "\n",
        "# creating kaggle.json file with the personal API-Key details\n",
        "# You can also put this file on your Google Drive\n",
        "with open('/root/.kaggle/kaggle.json', 'w') as file:\n",
        "  json.dump(api_token, file)\n",
        "!chmod 600 /root/.kaggle/kaggle.json\n",
        "\n",
        "!mkdir ./datasets\n",
        "!mkdir ./datasets/us-baby-name\n",
        "\n",
        "# download the dataset from Kaggle and unzip it\n",
        "!kaggle datasets download kaggle/us-baby-names -f database.sqlite -p ./datasets/us-baby-name/database.sqlite\n",
        "!chdir ./datasets/us-baby-name/database.sqlite/\n",
        "!unzip ./datasets/us-baby-name/database.sqlite/*.zip  -d ./datasets/us-baby-name/database.sqlite"
      ],
      "execution_count": null,
      "outputs": [
        {
          "output_type": "stream",
          "name": "stdout",
          "text": [
            "Requirement already satisfied: kaggle in /usr/local/lib/python3.10/dist-packages (1.6.17)\n",
            "Requirement already satisfied: six>=1.10 in /usr/local/lib/python3.10/dist-packages (from kaggle) (1.16.0)\n",
            "Requirement already satisfied: certifi>=2023.7.22 in /usr/local/lib/python3.10/dist-packages (from kaggle) (2024.8.30)\n",
            "Requirement already satisfied: python-dateutil in /usr/local/lib/python3.10/dist-packages (from kaggle) (2.8.2)\n",
            "Requirement already satisfied: requests in /usr/local/lib/python3.10/dist-packages (from kaggle) (2.32.3)\n",
            "Requirement already satisfied: tqdm in /usr/local/lib/python3.10/dist-packages (from kaggle) (4.66.6)\n",
            "Requirement already satisfied: python-slugify in /usr/local/lib/python3.10/dist-packages (from kaggle) (8.0.4)\n",
            "Requirement already satisfied: urllib3 in /usr/local/lib/python3.10/dist-packages (from kaggle) (2.2.3)\n",
            "Requirement already satisfied: bleach in /usr/local/lib/python3.10/dist-packages (from kaggle) (6.2.0)\n",
            "Requirement already satisfied: webencodings in /usr/local/lib/python3.10/dist-packages (from bleach->kaggle) (0.5.1)\n",
            "Requirement already satisfied: text-unidecode>=1.3 in /usr/local/lib/python3.10/dist-packages (from python-slugify->kaggle) (1.3)\n",
            "Requirement already satisfied: charset-normalizer<4,>=2 in /usr/local/lib/python3.10/dist-packages (from requests->kaggle) (3.4.0)\n",
            "Requirement already satisfied: idna<4,>=2.5 in /usr/local/lib/python3.10/dist-packages (from requests->kaggle) (3.10)\n",
            "Dataset URL: https://www.kaggle.com/datasets/kaggle/us-baby-names\n",
            "License(s): CC0-1.0\n",
            "Downloading database.sqlite.zip to ./datasets/us-baby-name/database.sqlite\n",
            " 92% 121M/131M [00:01<00:00, 81.6MB/s]\n",
            "100% 131M/131M [00:02<00:00, 68.3MB/s]\n",
            "/bin/bash: line 1: chdir: command not found\n",
            "Archive:  ./datasets/us-baby-name/database.sqlite/database.sqlite.zip\n",
            "  inflating: ./datasets/us-baby-name/database.sqlite/database.sqlite  \n"
          ]
        }
      ]
    },
    {
      "cell_type": "code",
      "source": [],
      "metadata": {
        "id": "Qa9yRxSlbZLx"
      },
      "execution_count": null,
      "outputs": []
    },
    {
      "cell_type": "code",
      "source": [
        "import sqlite3\n",
        "import matplotlib\n",
        "import matplotlib.pyplot as plt\n",
        "import os\n",
        "%matplotlib inline\n",
        "\n",
        "DB_PATH = './datasets/us-baby-name/database.sqlite'\n",
        "\n",
        "conn = sqlite3.connect(f'{DB_PATH}/database.sqlite') # connecting to the database\n",
        "cursor = conn.cursor() # creating a cursor object\n",
        "\n",
        "cursor.execute('''\n",
        "    CREATE TABLE Names (\n",
        "        State TEXT,\n",
        "        Gender TEXT,\n",
        "        Name TEXT,\n",
        "        Count INTEGER,\n",
        "        Year INTEGER\n",
        "    );\n",
        "''')\n",
        "\n",
        "\n",
        "batch_size = 1000\n",
        "offset = 0\n",
        "while True:\n",
        "    # Select a batch of rows from the source table\n",
        "    cursor.execute(f'''\n",
        "        SELECT State, Gender, Name, Count, Year\n",
        "        FROM StateNames\n",
        "        LIMIT {batch_size} OFFSET {offset}\n",
        "    ''')\n",
        "    rows = cursor.fetchall()\n",
        "\n",
        "    # If no rows are returned, stop the loop\n",
        "    if not rows:\n",
        "        break\n",
        "\n",
        "    # Batch insert into 'Names' table\n",
        "    cursor.executemany('''\n",
        "        INSERT INTO Names (State, Gender, Name, Count, Year)\n",
        "        VALUES (?, ?, ?, ?, ?)\n",
        "    ''', rows)\n",
        "\n",
        "    # Increase the offset for the next batch\n",
        "    offset += batch_size\n",
        "\n",
        "# Commit the transaction and close the connection\n",
        "conn.commit()\n",
        "\n",
        "\n",
        "cursor.close() # close the cursor\n",
        "conn.close()"
      ],
      "metadata": {
        "id": "raIlajA_CTsC"
      },
      "execution_count": null,
      "outputs": []
    },
    {
      "cell_type": "code",
      "source": [],
      "metadata": {
        "colab": {
          "base_uri": "https://localhost:8080/"
        },
        "id": "gEozJ9g4Dmnk",
        "outputId": "fd722b99-1309-4ccf-c3d7-119f74f61636"
      },
      "execution_count": null,
      "outputs": [
        {
          "output_type": "stream",
          "name": "stdout",
          "text": [
            "[('F', 'Mary', 7065, 1880), ('F', 'Anna', 2604, 1880), ('F', 'Emma', 2003, 1880), ('F', 'Elizabeth', 1939, 1880), ('F', 'Minnie', 1746, 1880)]\n"
          ]
        }
      ]
    },
    {
      "cell_type": "markdown",
      "metadata": {
        "id": "QEbvkQhCYCyP"
      },
      "source": [
        "**Task 2 (for everyone):** Write a query that returns the statistics for the name Mary (5pt). Use the [the timeit package](https://docs.python.org/3/library/timeit.html) to measure the time it takes the query to run (5pt). **Bonus:** [Create an index](https://www.w3schools.com/sql/sql_create_index.asp)  on the _Name_ column and use the [the timeit package](https://docs.python.org/3/library/timeit.html) to measure the time it takes the query to run with the index (5pt)"
      ]
    },
    {
      "cell_type": "code",
      "metadata": {
        "id": "YBCHPAOzYCyR",
        "colab": {
          "base_uri": "https://localhost:8080/"
        },
        "outputId": "c22b8bfd-e9ce-4a87-f59b-8d69e4bb385a"
      },
      "source": [
        "import timeit\n",
        "\n",
        "conn = sqlite3.connect(f'{DB_PATH}/database.sqlite') # connecting to the database\n",
        "cursor = conn.cursor() # creating a cursor object\n",
        "\n",
        "def get_stats():\n",
        "    cursor.execute('''\n",
        "        SELECT *\n",
        "        FROM Names\n",
        "        WHERE Name = 'Mary'\n",
        "    ''')\n",
        "    return cursor.fetchall()\n",
        "\n",
        "time = timeit.timeit(\n",
        "    get_stats,\n",
        "    number=1\n",
        ")\n",
        "\n",
        "# print(get_stats())\n",
        "cursor.close() # close the cursor\n",
        "conn.close()\n",
        "\n",
        "print(f\"Time: {time} seconds\")"
      ],
      "execution_count": null,
      "outputs": [
        {
          "output_type": "stream",
          "name": "stdout",
          "text": [
            "Time: 0.6617255670000759 seconds\n"
          ]
        }
      ]
    },
    {
      "cell_type": "code",
      "source": [
        "conn = sqlite3.connect(f'{DB_PATH}/database.sqlite') # connecting to the database\n",
        "cursor = conn.cursor() # creating a cursor object\n",
        "\n",
        "cursor.execute('''\n",
        "    CREATE INDEX IF NOT EXISTS NameIndex ON Names (Name);\n",
        "''')\n",
        "\n",
        "time = timeit.timeit(\n",
        "    get_stats,\n",
        "    number=1\n",
        ")\n",
        "\n",
        "# print(get_stats())\n",
        "cursor.close() # close the cursor\n",
        "conn.close()\n",
        "\n",
        "print(f\"Time: {time} seconds\")\n",
        "\n",
        "\n"
      ],
      "metadata": {
        "colab": {
          "base_uri": "https://localhost:8080/"
        },
        "id": "FhEBNDv5WQuM",
        "outputId": "d050eee2-b7a4-4841-8be4-5a83358c4b7e"
      },
      "execution_count": null,
      "outputs": [
        {
          "output_type": "stream",
          "name": "stdout",
          "text": [
            "Time: 0.02423148200000469 seconds\n"
          ]
        }
      ]
    },
    {
      "cell_type": "markdown",
      "metadata": {
        "id": "6dClZxXjYCyU"
      },
      "source": [
        "### <span style=\"color:red\"> Please answer only **one** of the following questions according to your ID number (use the formula **Question = <YOUR_ID> mod 4 +1**) </span>"
      ]
    },
    {
      "cell_type": "code",
      "metadata": {
        "id": "iDpqwgwQYCyV",
        "colab": {
          "base_uri": "https://localhost:8080/"
        },
        "outputId": "2056696a-a250-4d9c-ff98-2673b371c4e7"
      },
      "source": [
        "# which question to answer - put your ID number and run the code\n",
        "your_id  = \"\"\n",
        "q = int(your_id) % 4 + 1\n",
        "print(\"You need to answer question number %s\" % q)"
      ],
      "execution_count": null,
      "outputs": [
        {
          "output_type": "stream",
          "name": "stdout",
          "text": [
            "You need to answer question number 1\n"
          ]
        }
      ]
    },
    {
      "cell_type": "markdown",
      "metadata": {
        "id": "bGU71KQ8YCyZ"
      },
      "source": [
        "***Question 1:*** Write a function that returns how many *female and* male babies were born in a given state in a given year.\n",
        "Use it to calculate the number of babies born in CA in 1985 (10pt)"
      ]
    },
    {
      "cell_type": "code",
      "metadata": {
        "id": "0RB3GjaaYCya",
        "colab": {
          "base_uri": "https://localhost:8080/"
        },
        "outputId": "306c8c71-9de0-4f31-b93c-999bbc1bf2b8"
      },
      "source": [
        "conn = sqlite3.connect(f'{DB_PATH}/database.sqlite') # connecting to the database\n",
        "cursor = conn.cursor() # creating a cursor object\n",
        "def get_stats(state, year):\n",
        "  cursor.execute('''\n",
        "      SELECT Gender, SUM(Count)\n",
        "      FROM Names\n",
        "      WHERE State = ? AND Year = ?\n",
        "      GROUP BY Gender\n",
        "  ''', (state, year))\n",
        "  return cursor.fetchall()\n",
        "\n",
        "print(get_stats(\"CA\", 1985))\n",
        "cursor.close() # close the cursor\n",
        "conn.close()"
      ],
      "execution_count": null,
      "outputs": [
        {
          "output_type": "stream",
          "name": "stdout",
          "text": [
            "[('F', 202120), ('M', 223209)]\n"
          ]
        }
      ]
    },
    {
      "cell_type": "markdown",
      "metadata": {
        "id": "510Wry5WYCye"
      },
      "source": [
        "***Question 2:*** Write a function that returns how many female babies were born between a given range of years.\n",
        "Use it to calculate how many babies were born between 1850 and 1950  (10pt)"
      ]
    },
    {
      "cell_type": "code",
      "metadata": {
        "id": "m5wOKWsBYCyf"
      },
      "source": [],
      "execution_count": null,
      "outputs": []
    },
    {
      "cell_type": "markdown",
      "metadata": {
        "id": "x721dD1NYCyi"
      },
      "source": [
        "**Question 3:** Write a function that returns the most common female name in a given state. Use it to calculate the most common female name in Texas in 2000 (10pt)"
      ]
    },
    {
      "cell_type": "code",
      "metadata": {
        "id": "h3t_ouDoYCyj"
      },
      "source": [],
      "execution_count": null,
      "outputs": []
    },
    {
      "cell_type": "markdown",
      "metadata": {
        "id": "mRyUoBvhYCyl"
      },
      "source": [
        "**Question 4:** Write a function that returns how many male babies named _William_ where born in a given state in a given year. Use it to find the state in which the highest number of babies _William_ where born in 1950 (10pt)"
      ]
    },
    {
      "cell_type": "code",
      "metadata": {
        "id": "lz1q1mvPYCym"
      },
      "source": [],
      "execution_count": null,
      "outputs": []
    },
    {
      "cell_type": "markdown",
      "metadata": {
        "id": "THz0vDHHYCyo"
      },
      "source": [
        "**Question (for everyone):** For the state of WA write code that calculates the fourth most popular female/male names in each decade (10pt). **Bonus**: Visualize it somehow using Matplotlib (5pt)"
      ]
    },
    {
      "cell_type": "code",
      "metadata": {
        "id": "dVRTQGOS_3G9",
        "colab": {
          "base_uri": "https://localhost:8080/"
        },
        "outputId": "1eb1107d-994f-45f0-82bf-824cc05b7c24"
      },
      "source": [
        "conn = sqlite3.connect(f'{DB_PATH}/database.sqlite') # connecting to the database\n",
        "cursor = conn.cursor() # creating a cursor object\n",
        "cursor.execute('''CREATE INDEX IF NOT EXISTS idx_state_gender_name_year ON Names (State, Gender, Name, Year)''')\n",
        "def k_most_popular(state, gender, k):\n",
        "    cursor.execute(\n",
        "                  \"\"\"\n",
        "                  WITH RankedNames AS (\n",
        "                    SELECT\n",
        "                      Gender,\n",
        "                      (Year / 10) * 10 AS decade,\n",
        "                      Name,\n",
        "                      SUM(count) AS total_count,\n",
        "                      ROW_NUMBER() OVER (PARTITION BY gender, (year / 10) * 10 ORDER BY SUM(count) DESC) AS rank\n",
        "                    FROM names\n",
        "                    WHERE state = ? AND Gender = ?\n",
        "                    GROUP BY gender, decade, name\n",
        "                  )\n",
        "                  SELECT gender, decade, name, total_count\n",
        "                  FROM RankedNames\n",
        "                  WHERE rank = ?\n",
        "                  ORDER BY decade;\n",
        "                  \"\"\"\n",
        "    , (state, gender, k))\n",
        "    return cursor.fetchall()\n",
        "\n",
        "state = 'WA'\n",
        "k = 4  # 4th most popular name\n",
        "\n",
        "male_results = k_most_popular(state, \"M\" , k )\n",
        "female_results = k_most_popular(state, \"F\" , k )\n",
        "print(male_results)\n",
        "print(female_results)\n",
        "cursor.close() # close the cursor\n",
        "conn.close()"
      ],
      "execution_count": null,
      "outputs": [
        {
          "output_type": "stream",
          "name": "stdout",
          "text": [
            "[('M', 1910, 'James', 2024), ('M', 1920, 'Donald', 3822), ('M', 1930, 'John', 4282), ('M', 1940, 'Richard', 8127), ('M', 1950, 'John', 11410), ('M', 1960, 'Robert', 8962), ('M', 1970, 'David', 7114), ('M', 1980, 'Joshua', 8137), ('M', 1990, 'Tyler', 6072), ('M', 2000, 'Daniel', 3996), ('M', 2010, 'Ethan', 1759)]\n",
            "[('F', 1910, 'Margaret', 2399), ('F', 1920, 'Margaret', 2550), ('F', 1930, 'Shirley', 2826), ('F', 1940, 'Patricia', 5639), ('F', 1950, 'Patricia', 5963), ('F', 1960, 'Michelle', 3975), ('F', 1970, 'Heather', 4295), ('F', 1980, 'Sarah', 6380), ('F', 1990, 'Sarah', 4574), ('F', 2000, 'Madison', 3593), ('F', 2010, 'Isabella', 1635)]\n"
          ]
        }
      ]
    },
    {
      "cell_type": "code",
      "source": [
        "male_decades = [row[1] for row in male_results]\n",
        "male_names = [row[2] for row in male_results]\n",
        "male_counts = [row[3] for row in male_results]\n",
        "\n",
        "female_decades = [row[1] for row in female_results]\n",
        "female_names = [row[2] for row in female_results]\n",
        "female_counts = [row[3] for row in female_results]\n",
        "\n",
        "plt.figure(figsize=(10, 6))\n",
        "\n",
        "# Bar chart of the k-th most popular names for males and females\n",
        "plt.bar(male_decades, male_counts, color='blue', label='Male', width=4, align='center')\n",
        "plt.bar(female_decades, female_counts, color='pink', label='Female', width=4, align='edge')\n",
        "\n",
        "# Title and labels\n",
        "plt.title(f'{k}th Most Popular Names in {state} by Decade')\n",
        "plt.xlabel('Decade')\n",
        "plt.ylabel('Total Count')\n",
        "\n",
        "# Optional: Display name labels on top of bars\n",
        "for i, count in enumerate(male_counts):\n",
        "    plt.text(male_decades[i], count + 10, male_names[i], ha='center', va='bottom', fontsize=9)\n",
        "\n",
        "for i, count in enumerate(female_counts):\n",
        "    plt.text(female_decades[i], count + 10, female_names[i], ha='center', va='bottom', fontsize=9)\n",
        "\n",
        "# Show the legend\n",
        "plt.legend()\n",
        "\n",
        "# Show the plot\n",
        "plt.xticks(sorted(set(male_decades + female_decades)))  # Ensure all decades are shown\n",
        "plt.tight_layout()\n",
        "plt.show()"
      ],
      "metadata": {
        "colab": {
          "base_uri": "https://localhost:8080/",
          "height": 573
        },
        "id": "GaI6K7t3lH8Y",
        "outputId": "29420cd7-2da8-426e-f38e-922682c2b62c"
      },
      "execution_count": null,
      "outputs": [
        {
          "output_type": "display_data",
          "data": {
            "text/plain": [
              "<Figure size 1000x600 with 1 Axes>"
            ],
            "image/png": "[encoded data removed]"
          },
          "metadata": {}
        }
      ]
    },
    {
      "cell_type": "markdown",
      "metadata": {
        "id": "gmdQrLL9YCyp"
      },
      "source": [
        "# 2. Flavors of Cacao Dataset (15pt)"
      ]
    },
    {
      "cell_type": "markdown",
      "metadata": {
        "id": "dTpNKH7UYCyq"
      },
      "source": [
        "Using the [Flavors of Cacao](https://www.kaggle.com/rombikuboktaeder/choco-flavors) dataset, answer one of the following questions (according to your ID):"
      ]
    },
    {
      "cell_type": "markdown",
      "metadata": {
        "id": "wbg9gkVtYCyr"
      },
      "source": [
        "**Question 1:** Write a function that returns the number of bars manufactured where the bars' BroadBean Origin is a given country. Use the function to calculate the number of bars where BroadBean Origin is 'Peru' (15pt)"
      ]
    },
    {
      "cell_type": "code",
      "metadata": {
        "id": "D5FWfEiaYCys",
        "colab": {
          "base_uri": "https://localhost:8080/"
        },
        "outputId": "876e1b26-42aa-4571-c62c-3cbce129bb75"
      },
      "source": [
        "import json\n",
        "import os\n",
        "\n",
        "!mkdir /root/.kaggle/\n",
        "# Installing the Kaggle package\n",
        "!pip install kaggle\n",
        "\n",
        "\n",
        "# creating kaggle.json file with the personal API-Key details\n",
        "# You can also put this file on your Google Drive\n",
        "with open('/root/.kaggle/kaggle.json', 'w') as file:\n",
        "  json.dump(api_token, file)\n",
        "!chmod 600 /root/.kaggle/kaggle.json\n"
      ],
      "execution_count": null,
      "outputs": [
        {
          "output_type": "stream",
          "name": "stdout",
          "text": [
            "Requirement already satisfied: kaggle in /usr/local/lib/python3.10/dist-packages (1.6.17)\n",
            "Requirement already satisfied: six>=1.10 in /usr/local/lib/python3.10/dist-packages (from kaggle) (1.16.0)\n",
            "Requirement already satisfied: certifi>=2023.7.22 in /usr/local/lib/python3.10/dist-packages (from kaggle) (2024.8.30)\n",
            "Requirement already satisfied: python-dateutil in /usr/local/lib/python3.10/dist-packages (from kaggle) (2.8.2)\n",
            "Requirement already satisfied: requests in /usr/local/lib/python3.10/dist-packages (from kaggle) (2.32.3)\n",
            "Requirement already satisfied: tqdm in /usr/local/lib/python3.10/dist-packages (from kaggle) (4.66.6)\n",
            "Requirement already satisfied: python-slugify in /usr/local/lib/python3.10/dist-packages (from kaggle) (8.0.4)\n",
            "Requirement already satisfied: urllib3 in /usr/local/lib/python3.10/dist-packages (from kaggle) (2.2.3)\n",
            "Requirement already satisfied: bleach in /usr/local/lib/python3.10/dist-packages (from kaggle) (6.2.0)\n",
            "Requirement already satisfied: webencodings in /usr/local/lib/python3.10/dist-packages (from bleach->kaggle) (0.5.1)\n",
            "Requirement already satisfied: text-unidecode>=1.3 in /usr/local/lib/python3.10/dist-packages (from python-slugify->kaggle) (1.3)\n",
            "Requirement already satisfied: charset-normalizer<4,>=2 in /usr/local/lib/python3.10/dist-packages (from requests->kaggle) (3.4.0)\n",
            "Requirement already satisfied: idna<4,>=2.5 in /usr/local/lib/python3.10/dist-packages (from requests->kaggle) (3.10)\n"
          ]
        }
      ]
    },
    {
      "cell_type": "code",
      "source": [
        "!kaggle datasets list -s choco_flavors"
      ],
      "metadata": {
        "colab": {
          "base_uri": "https://localhost:8080/"
        },
        "id": "EvOoeusfKHnq",
        "outputId": "1714b57a-064a-4323-ba93-96e8cf7da914"
      },
      "execution_count": null,
      "outputs": [
        {
          "output_type": "stream",
          "name": "stdout",
          "text": [
            "ref                             title          size  lastUpdated          downloadCount  voteCount  usabilityRating  \n",
            "------------------------------  -------------  ----  -------------------  -------------  ---------  ---------------  \n",
            "rombikuboktaeder/choco-flavors  choco_flavors  30KB  2018-04-01 04:36:29           2431          6  0.23529412       \n"
          ]
        }
      ]
    },
    {
      "cell_type": "code",
      "source": [
        "!mkdir -p /content/drive/MyDrive/Datasets"
      ],
      "metadata": {
        "id": "nqG5t75mLtZo"
      },
      "execution_count": null,
      "outputs": []
    },
    {
      "cell_type": "code",
      "source": [
        "!kaggle datasets files rombikuboktaeder/choco-flavors"
      ],
      "metadata": {
        "colab": {
          "base_uri": "https://localhost:8080/"
        },
        "id": "YNOqD_LgMTHw",
        "outputId": "d2db42be-d9c5-4e12-c28c-99695df4250c"
      },
      "execution_count": null,
      "outputs": [
        {
          "output_type": "stream",
          "name": "stdout",
          "text": [
            "name                   size  creationDate         \n",
            "--------------------  -----  -------------------  \n",
            "flavors_of_cacao.csv  125KB  2019-09-29 00:31:19  \n"
          ]
        }
      ]
    },
    {
      "cell_type": "code",
      "source": [
        "!kaggle datasets download rombikuboktaeder/choco-flavors -f flavors_of_cacao.csv -p /content/drive/MyDrive/Datasets"
      ],
      "metadata": {
        "colab": {
          "base_uri": "https://localhost:8080/"
        },
        "id": "BcY7WJexLKod",
        "outputId": "22644ce8-ffa3-4812-c887-1de8e74c256e"
      },
      "execution_count": null,
      "outputs": [
        {
          "output_type": "stream",
          "name": "stdout",
          "text": [
            "Dataset URL: https://www.kaggle.com/datasets/rombikuboktaeder/choco-flavors\n",
            "License(s): CC0-1.0\n",
            "flavors_of_cacao.csv: Skipping, found more recently modified local copy (use --force to force download)\n"
          ]
        }
      ]
    },
    {
      "cell_type": "code",
      "source": [
        "import sqlite3\n",
        "import matplotlib\n",
        "import matplotlib.pyplot as plt\n",
        "import os\n",
        "%matplotlib inline\n",
        "\n",
        "DB_PATH = '/content/drive/MyDrive/Datasets/'\n",
        "\n",
        "conn = sqlite3.connect(f'{DB_PATH}/choco_flavors.db') # connecting to the database\n",
        "cursor = conn.cursor() # creating a cursor object\n",
        "\n",
        "cursor.execute('''\n",
        "    CREATE TABLE IF NOT EXISTS choco_flavors (\n",
        "        Company TEXT,\n",
        "        SpecificBeanBarName TEXT,\n",
        "        REF INT,\n",
        "        ReviewDate INT,\n",
        "        CocoaPercent TEXT,\n",
        "        CompanyLocation TEXT,\n",
        "        Rating REAL,\n",
        "        BeanType TEXT,\n",
        "        BroadBeanOrigin TEXT\n",
        "    )\n",
        "''')\n"
      ],
      "metadata": {
        "colab": {
          "base_uri": "https://localhost:8080/"
        },
        "id": "dTXzzLD7MzYH",
        "outputId": "5f1742f4-6134-49b3-8434-1f1e3f51d749"
      },
      "execution_count": null,
      "outputs": [
        {
          "output_type": "execute_result",
          "data": {
            "text/plain": [
              "<sqlite3.Cursor at 0x7993744ad1c0>"
            ]
          },
          "metadata": {},
          "execution_count": 29
        }
      ]
    },
    {
      "cell_type": "code",
      "source": [
        "import csv\n",
        "# Load data from CSV file into the table\n",
        "with open('/content/drive/MyDrive/Datasets/flavors_of_cacao.csv', 'r') as file:\n",
        "    reader = csv.reader(file)\n",
        "    next(reader)  # Skip the header row\n",
        "    for row in reader:\n",
        "        cursor.execute('''\n",
        "            INSERT INTO choco_flavors (Company, SpecificBeanBarName, REF, ReviewDate, CocoaPercent, CompanyLocation, Rating, BeanType, BroadBeanOrigin)\n",
        "            VALUES (?, ?, ?, ?, ?, ?, ?, ?, ?)\n",
        "        ''', row)\n",
        "\n",
        "# Commit the changes\n",
        "conn.commit()"
      ],
      "metadata": {
        "id": "AmRXlpIYR8wt"
      },
      "execution_count": null,
      "outputs": []
    },
    {
      "cell_type": "code",
      "source": [
        "def BroadBeanOrigin(country):\n",
        "  cursor.execute('''\n",
        "      SELECT COUNT(*)\n",
        "      FROM choco_flavors\n",
        "      WHERE BroadBeanOrigin = ?\n",
        "  ''', (country,))\n",
        "  return cursor.fetchone()[0]\n",
        "\n",
        "country = 'Peru'\n",
        "print(f\"Number of bars with BroadBean Origin in {country} is: {BroadBeanOrigin(country)}\")"
      ],
      "metadata": {
        "colab": {
          "base_uri": "https://localhost:8080/"
        },
        "id": "d9QrwTA8SlkK",
        "outputId": "322369d1-9395-4f59-ceff-bd85b2d59eff"
      },
      "execution_count": null,
      "outputs": [
        {
          "output_type": "stream",
          "name": "stdout",
          "text": [
            "Number of bars with BroadBean Origin in Peru is: 330\n"
          ]
        }
      ]
    },
    {
      "cell_type": "code",
      "source": [
        "cursor.close() # close the cursor\n",
        "conn.close()"
      ],
      "metadata": {
        "id": "LK8bZ8_1UXWD"
      },
      "execution_count": null,
      "outputs": []
    },
    {
      "cell_type": "markdown",
      "metadata": {
        "id": "9GCvKxWtYCyu"
      },
      "source": [
        "**Question 2:** Write a function that returns the maximal and median cocoa percentage in a bar manufactured by a company in a specific country. Use the function to calculate the minimal and median cocoa percentage in bars manufactured by Israeli companies (15pt)."
      ]
    },
    {
      "cell_type": "code",
      "metadata": {
        "id": "KZJXxtwWYCyv",
        "colab": {
          "base_uri": "https://localhost:8080/"
        },
        "outputId": "ee283742-d941-459f-eb08-f5ae616cce12"
      },
      "source": [],
      "execution_count": null,
      "outputs": [
        {
          "output_type": "stream",
          "name": "stdout",
          "text": [
            "ref                             title          size  lastUpdated          downloadCount  voteCount  usabilityRating  \n",
            "------------------------------  -------------  ----  -------------------  -------------  ---------  ---------------  \n",
            "rombikuboktaeder/choco-flavors  choco_flavors  30KB  2018-04-01 04:36:29           2431          6  0.23529412       \n"
          ]
        }
      ]
    },
    {
      "cell_type": "markdown",
      "metadata": {
        "id": "GlYqUA1xYCyx"
      },
      "source": [
        "**Question 3:** Calculate the third most common bean type(s) and the most rare bean type(s) (15\n",
        "pt)"
      ]
    },
    {
      "cell_type": "code",
      "metadata": {
        "id": "kk0qIAiwYCyx"
      },
      "source": [],
      "execution_count": null,
      "outputs": []
    },
    {
      "cell_type": "markdown",
      "metadata": {
        "id": "aOg-NK_lYCyz"
      },
      "source": [
        "**Question 4:** Calculate the number of reviews and the median rating in each year. Calculate the number of reviews and the median rating of each company in each year (15pt)"
      ]
    },
    {
      "cell_type": "code",
      "metadata": {
        "id": "e8qwHAldYCy0"
      },
      "source": [],
      "execution_count": null,
      "outputs": []
    },
    {
      "cell_type": "markdown",
      "metadata": {
        "id": "eKx7_9vyYCy1"
      },
      "source": [
        "# 3. Kickstarter Projects Dataset (25pt)"
      ]
    },
    {
      "cell_type": "markdown",
      "metadata": {
        "id": "5HXua9B5YCy2"
      },
      "source": [
        "Using the [Kickstarter Projects Dataset](https://www.kaggle.com/kemical/kickstarter-projects#ks-projects-201801.csv), answer the following questions:"
      ]
    },
    {
      "cell_type": "markdown",
      "metadata": {
        "id": "NGgJ1dyeZiFH"
      },
      "source": [
        "**Task 1 (for everyone):** Load the dataset to SQLite DB using [PonyORM](https://ponyorm.org) (10pt)"
      ]
    },
    {
      "cell_type": "code",
      "source": [
        "!pip install pony"
      ],
      "metadata": {
        "colab": {
          "base_uri": "https://localhost:8080/"
        },
        "id": "nnu36IabUfiW",
        "outputId": "93410a68-96c5-4b9e-efb7-6cdd854e36d9"
      },
      "execution_count": null,
      "outputs": [
        {
          "output_type": "stream",
          "name": "stdout",
          "text": [
            "Collecting pony\n",
            "  Downloading pony-0.7.19-py3-none-any.whl.metadata (2.8 kB)\n",
            "Downloading pony-0.7.19-py3-none-any.whl (317 kB)\n",
            "\u001b[?25l   \u001b[90m━━━━━━━━━━━━━━━━━━━━━━━━━━━━━━━━━━━━━━━━\u001b[0m \u001b[32m0.0/317.3 kB\u001b[0m \u001b[31m?\u001b[0m eta \u001b[36m-:--:--\u001b[0m\r\u001b[2K   \u001b[91m━━━━━━━━━━━━━━\u001b[0m\u001b[90m╺\u001b[0m\u001b[90m━━━━━━━━━━━━━━━━━━━━━━━━━\u001b[0m \u001b[32m112.6/317.3 kB\u001b[0m \u001b[31m3.1 MB/s\u001b[0m eta \u001b[36m0:00:01\u001b[0m\r\u001b[2K   \u001b[90m━━━━━━━━━━━━━━━━━━━━━━━━━━━━━━━━━━━━━━━━\u001b[0m \u001b[32m317.3/317.3 kB\u001b[0m \u001b[31m4.8 MB/s\u001b[0m eta \u001b[36m0:00:00\u001b[0m\n",
            "\u001b[?25hInstalling collected packages: pony\n",
            "Successfully installed pony-0.7.19\n"
          ]
        }
      ]
    },
    {
      "cell_type": "code",
      "metadata": {
        "id": "TLhhxMDDb2nN",
        "colab": {
          "base_uri": "https://localhost:8080/"
        },
        "outputId": "e5a17981-01e1-469f-f8b3-71b785af1124"
      },
      "source": [
        "!kaggle datasets download kemical/kickstarter-projects  -p /content/drive/MyDrive/Datasets\n",
        "!unzip /content/drive/MyDrive/Datasets/kickstarter-projects.zip -d /content/drive/MyDrive/Datasets/kickstarter-projects/"
      ],
      "execution_count": null,
      "outputs": [
        {
          "output_type": "stream",
          "name": "stdout",
          "text": [
            "Dataset URL: https://www.kaggle.com/datasets/kemical/kickstarter-projects\n",
            "License(s): CC-BY-NC-SA-4.0\n",
            "kickstarter-projects.zip: Skipping, found more recently modified local copy (use --force to force download)\n",
            "Archive:  /content/drive/MyDrive/Datasets/kickstarter-projects.zip\n",
            "  inflating: /content/drive/MyDrive/Datasets/kickstarter-projects/ks-projects-201612.csv  \n",
            "  inflating: /content/drive/MyDrive/Datasets/kickstarter-projects/ks-projects-201801.csv  \n"
          ]
        }
      ]
    },
    {
      "cell_type": "markdown",
      "metadata": {
        "id": "W1K5VTLoYCy3"
      },
      "source": [
        "### <span style=\"color:red\"> Please answer only **one** of the following questions according to your ID number (use the formula **<YOUR_ID> mod 3 +1**) </span>"
      ]
    },
    {
      "cell_type": "code",
      "metadata": {
        "id": "vwlOZtVHYCy3",
        "colab": {
          "base_uri": "https://localhost:8080/"
        },
        "outputId": "4b1d7709-0fa7-4383-f8b1-9196d8fa6bcc"
      },
      "source": [
        "# which question to answer - put your ID number and run the code\n",
        "your_id  = \"\"\n",
        "q = int(your_id) % 3 + 1\n",
        "print(\"You need to answer question number %s\" % q)"
      ],
      "execution_count": null,
      "outputs": [
        {
          "output_type": "stream",
          "name": "stdout",
          "text": [
            "You need to answer question number 1\n"
          ]
        }
      ]
    },
    {
      "cell_type": "markdown",
      "metadata": {
        "id": "gkVN8OnxYCy5"
      },
      "source": [
        "**Question 1:** On average which project category received the highest number of backers? (15 pt)"
      ]
    },
    {
      "cell_type": "code",
      "metadata": {
        "id": "vkhb156oYCy6",
        "colab": {
          "base_uri": "https://localhost:8080/"
        },
        "outputId": "7d3e7471-933d-499e-a5c5-6072445a18b5"
      },
      "source": [
        "!ls /content/drive/MyDrive/Datasets/kickstarter-projects/"
      ],
      "execution_count": null,
      "outputs": [
        {
          "output_type": "stream",
          "name": "stdout",
          "text": [
            "ks-projects-201612.csv\tks-projects-201801.csv\n"
          ]
        }
      ]
    },
    {
      "cell_type": "code",
      "source": [
        "import pandas as pd # we will talk more about pandas in our next lecture\n",
        "df = pd.read_csv('/content/drive/MyDrive/Datasets/kickstarter-projects/ks-projects-201612.csv', encoding='ISO-8859-1')\n",
        "print(df.columns)"
      ],
      "metadata": {
        "colab": {
          "base_uri": "https://localhost:8080/"
        },
        "id": "SHaZWF8wXdhc",
        "outputId": "de6dfac0-8ba2-4e38-934c-19adb75bd8eb"
      },
      "execution_count": null,
      "outputs": [
        {
          "output_type": "stream",
          "name": "stdout",
          "text": [
            "Index(['ID ', 'name ', 'category ', 'main_category ', 'currency ', 'deadline ',\n",
            "       'goal ', 'launched ', 'pledged ', 'state ', 'backers ', 'country ',\n",
            "       'usd pledged ', 'Unnamed: 13', 'Unnamed: 14', 'Unnamed: 15',\n",
            "       'Unnamed: 16'],\n",
            "      dtype='object')\n"
          ]
        },
        {
          "output_type": "stream",
          "name": "stderr",
          "text": [
            "<ipython-input-48-f8b665a9d482>:2: DtypeWarning: Columns (13,14,15) have mixed types. Specify dtype option on import or set low_memory=False.\n",
            "  df = pd.read_csv('/content/drive/MyDrive/Datasets/kickstarter-projects/ks-projects-201612.csv', encoding='ISO-8859-1')\n"
          ]
        }
      ]
    },
    {
      "cell_type": "code",
      "source": [
        "from typing_extensions import Required\n",
        "from pony.orm import Database, Required, Set, select, avg\n",
        "db = Database()\n",
        "db.bind(provider='sqlite',\n",
        "        filename='/content/drive/MyDrive/Datasets/kickstarter-projects/kickstarter.pony.db',\n",
        "        create_db=True) # notice we can easily use other type of databases instead of SQLite\n",
        "\n",
        "# Each class will be map to a table\n",
        "class Project(db.Entity):\n",
        "    name = Required(str)\n",
        "    category = Required(str)\n",
        "    backers = Required(int)\n",
        "\n",
        "db.generate_mapping(create_tables=True)\n",
        "\n",
        "df = pd.read_csv('/content/drive/MyDrive/Datasets/kickstarter-projects/ks-projects-201612.csv', encoding='ISO-8859-1')\n",
        "df['backers '] = pd.to_numeric(df['backers '], errors='coerce').fillna(0).astype(int) #fix backers\n",
        "\n",
        "for idx, row in df.iterrows():\n",
        "    name = str(row['name '])  # Ensure 'name' is a string\n",
        "    category = str(row['category '])  # Ensure 'category' is a string\n",
        "    backers = int(row['backers '])  # Ensure 'backers' is an integer\n",
        "    Project(name=name, category=category, backers=backers)\n",
        "\n",
        "category_averages = select((p.category, avg(p.backers)) for p in Project)\n",
        "\n",
        "max_category = max(category_averages, key=lambda x: x[1])\n",
        "\n",
        "print(f\"The category with the highest average number of backers is '{max_category[0]}' with {max_category[1]} average backers.\")"
      ],
      "metadata": {
        "colab": {
          "base_uri": "https://localhost:8080/"
        },
        "id": "-fZuPUQ-WLA4",
        "outputId": "bbc98c47-20e3-483b-f638-4e66e8745c89"
      },
      "execution_count": null,
      "outputs": [
        {
          "output_type": "stream",
          "name": "stderr",
          "text": [
            "<ipython-input-65-8ad12d79e692>:16: DtypeWarning: Columns (13,14,15) have mixed types. Specify dtype option on import or set low_memory=False.\n",
            "  df = pd.read_csv('/content/drive/MyDrive/Datasets/kickstarter-projects/ks-projects-201612.csv', encoding='ISO-8859-1')\n"
          ]
        },
        {
          "output_type": "stream",
          "name": "stdout",
          "text": [
            "The category with the highest average number of backers is 'Create Jobs' with 88619.0 average backers.\n"
          ]
        }
      ]
    },
    {
      "cell_type": "markdown",
      "metadata": {
        "id": "LTk5XnNGYCy7"
      },
      "source": [
        "**Question 2:** On average which project category received the highest pledged USD? (15 pt)"
      ]
    },
    {
      "cell_type": "code",
      "metadata": {
        "id": "DfiXdIneYCy8"
      },
      "source": [],
      "execution_count": null,
      "outputs": []
    },
    {
      "cell_type": "markdown",
      "metadata": {
        "id": "wM5KvHE1YCy9"
      },
      "source": [
        "**Question 3:** In which month occurred the highest number of projects? (15 pt)"
      ]
    },
    {
      "cell_type": "code",
      "metadata": {
        "id": "5DTIStGMYCy-"
      },
      "source": [],
      "execution_count": null,
      "outputs": []
    },
    {
      "cell_type": "markdown",
      "metadata": {
        "id": "ResaA3kxYCy_"
      },
      "source": [
        "## 4. Oscars Datasets (10pt)"
      ]
    },
    {
      "cell_type": "markdown",
      "metadata": {
        "id": "WYQasQOKYCzA"
      },
      "source": [
        "Using the [Oscars Dataset](https://www.kaggle.com/theacademy/academy-awards), please answer only one of the following questions (you can chose):"
      ]
    },
    {
      "cell_type": "markdown",
      "metadata": {
        "id": "QGDmLdbKYCzA"
      },
      "source": [
        "**Question 1:** Who is the male actress with the most Oscar nominees? (10pt)"
      ]
    },
    {
      "cell_type": "code",
      "metadata": {
        "id": "qipeHl6AYCzB",
        "colab": {
          "base_uri": "https://localhost:8080/"
        },
        "outputId": "ebf9be23-40de-4a56-8878-c1de59b9a096"
      },
      "source": [
        "!chmod 600 /root/.config/kaggle/kaggle.json\n",
        "!kaggle datasets list -s \"The Academy Awards, 1927-2015\""
      ],
      "execution_count": null,
      "outputs": [
        {
          "output_type": "stream",
          "name": "stdout",
          "text": [
            "ref                          title                           size  lastUpdated          downloadCount  voteCount  usabilityRating  \n",
            "---------------------------  -----------------------------  -----  -------------------  -------------  ---------  ---------------  \n",
            "theacademy/academy-awards    The Academy Awards, 1927-2015  185KB  2017-02-13 17:30:48           8226         93  0.7352941        \n",
            "sagnikpatra/oscars-19272015  Oscar's (1927-2015)            185KB  2020-08-12 13:04:39            228         13  0.8235294        \n"
          ]
        }
      ]
    },
    {
      "cell_type": "code",
      "metadata": {
        "id": "2jm9HeghYCzD",
        "colab": {
          "base_uri": "https://localhost:8080/"
        },
        "outputId": "35731587-498d-4999-e948-2fe68ad9ecd5"
      },
      "source": [
        "!kaggle datasets download theacademy/academy-awards  -p /content/drive/MyDrive/Datasets\n",
        "!unzip /content/drive/MyDrive/Datasets/academy-awards.zip -d /content/drive/MyDrive/Datasets/academy-awards/"
      ],
      "execution_count": null,
      "outputs": [
        {
          "output_type": "stream",
          "name": "stdout",
          "text": [
            "Dataset URL: https://www.kaggle.com/datasets/theacademy/academy-awards\n",
            "License(s): unknown\n",
            "Downloading academy-awards.zip to /content/drive/MyDrive/Datasets\n",
            "  0% 0.00/185k [00:00<?, ?B/s]\n",
            "100% 185k/185k [00:00<00:00, 9.65MB/s]\n",
            "Archive:  /content/drive/MyDrive/Datasets/academy-awards.zip\n",
            "  inflating: /content/drive/MyDrive/Datasets/academy-awards/database.csv  \n"
          ]
        }
      ]
    },
    {
      "cell_type": "code",
      "source": [
        "import pandas as pd\n",
        "import sqlite3\n",
        "\n",
        "# Load the CSV file (replace 'your_dataset.csv' with the actual file path)\n",
        "df = pd.read_csv('/content/drive/MyDrive/Datasets/academy-awards/database.csv')\n",
        "\n",
        "# Connect to SQLite (creates a new database if it doesn't exist)\n",
        "conn = sqlite3.connect('oscars.db')\n",
        "\n",
        "# Write the DataFrame to a SQLite table\n",
        "df.to_sql('oscars_table', conn, if_exists='replace', index=False)\n",
        "\n",
        "cursor = conn.cursor()\n",
        "\n",
        "cursor.execute(\"\"\"\n",
        "SELECT name, COUNT(film) AS nomination_count\n",
        "FROM oscars_table\n",
        "WHERE Award = 'Actor'\n",
        "GROUP BY name\n",
        "ORDER BY nomination_count DESC\n",
        "LIMIT 1;\n",
        "\"\"\")\n",
        "\n",
        "result = cursor.fetchone()\n",
        "print(\"Male actor with the most nominations:\", result[0], \"with\", result[1], \"nominations\")\n",
        "\n",
        "# Close the connection\n",
        "conn.close()"
      ],
      "metadata": {
        "colab": {
          "base_uri": "https://localhost:8080/"
        },
        "id": "ApLWEJiUt3Vk",
        "outputId": "2998d9e5-10ba-4209-e31d-60b9f7799270"
      },
      "execution_count": null,
      "outputs": [
        {
          "output_type": "stream",
          "name": "stdout",
          "text": [
            "Male actor with the most nominations: Spencer Tracy with 9 nominations\n"
          ]
        }
      ]
    },
    {
      "cell_type": "markdown",
      "metadata": {
        "id": "BR33wDkbYCzD"
      },
      "source": [
        "**Question 2:** Who is the female director with the most Oscar nominees? (10pt)"
      ]
    },
    {
      "cell_type": "markdown",
      "metadata": {
        "id": "Va320K09YCzE"
      },
      "source": [
        "**Question 3:** Which top-10 movies received the highest number of Oscar nominees? (10pt)"
      ]
    },
    {
      "cell_type": "code",
      "metadata": {
        "id": "k9gVwnHVYCzF"
      },
      "source": [],
      "execution_count": null,
      "outputs": []
    },
    {
      "cell_type": "markdown",
      "metadata": {
        "id": "AF15wiyqYCzH"
      },
      "source": [
        "**Question 4:** Write a function that receives an actor's name and returns the actor’s number of Oscar nominees. Use the function to calculate the number of times Leonardo DiCaprio was a nominee (10pt)"
      ]
    },
    {
      "cell_type": "code",
      "metadata": {
        "id": "_ZdwQJCWYCzH"
      },
      "source": [],
      "execution_count": null,
      "outputs": []
    },
    {
      "cell_type": "markdown",
      "metadata": {
        "id": "eW1N-PBiYCzJ"
      },
      "source": [
        "## 5.  Cool Bonus: LLMs & Stable Difussion (10pt)"
      ]
    },
    {
      "cell_type": "markdown",
      "metadata": {
        "id": "Me79ek_mYCzJ"
      },
      "source": [
        "Using GPT-2 (or any other LLM model), create a simple code that generates a bedtime story with 10-page of related images."
      ]
    },
    {
      "cell_type": "code",
      "metadata": {
        "id": "xXIIUhgccGWw",
        "colab": {
          "base_uri": "https://localhost:8080/"
        },
        "outputId": "d5fb92b6-1476-462c-9f87-7c2fc63c7f3d"
      },
      "source": [
        "import openai\n",
        "import os\n",
        "\n",
        "# Set your OpenAI API key\n",
        "openai.api_key = 'your_openai_api_key_here'\n",
        "\n",
        "# Define the story\n",
        "story = [\n",
        "    \"Once upon a time, in a magical forest, there was a little fox named Fluff.\",\n",
        "    \"Fluff loved exploring and one day, he came across a beautiful, sparkling stream.\",\n",
        "    \"As Fluff played near the stream, he met a wise old owl perched on a tree.\",\n",
        "    \"The owl told Fluff about a hidden treasure deep in the forest, guarded by a dragon.\",\n",
        "    \"Fluff, being brave, decided to go on an adventure to find the treasure.\",\n",
        "    \"He walked through the dark woods, feeling the cool breeze rustling the leaves.\",\n",
        "    \"Suddenly, Fluff heard a growl! A big, green dragon appeared in front of him.\",\n",
        "    \"But the dragon wasn't mean; he was lonely and just wanted a friend.\",\n",
        "    \"Fluff and the dragon became best friends and decided to find the treasure together.\",\n",
        "    \"In the end, they found the treasure, but the real treasure was their friendship.\"\n",
        "]\n",
        "\n",
        "# Function to generate images using DALL·E\n",
        "def generate_image(prompt, page_number):\n",
        "    try:\n",
        "        response = openai.Image.create(\n",
        "            prompt=prompt,\n",
        "            n=1,\n",
        "            size=\"1024x1024\"\n",
        "        )\n",
        "        image_url = response['data'][0]['url']\n",
        "        download_image(image_url, page_number)\n",
        "    except Exception as e:\n",
        "        print(f\"Error generating image for page {page_number}: {e}\")\n",
        "\n",
        "# Function to download the image\n",
        "def download_image(url, page_number):\n",
        "    image_data = requests.get(url).content\n",
        "    with open(f\"bedtime_story_page_{page_number}.png\", 'wb') as f:\n",
        "        f.write(image_data)\n",
        "\n",
        "# Create the story with images\n",
        "def create_bedtime_story():\n",
        "    for i, text in enumerate(story):\n",
        "        print(f\"Generating Page {i+1}...\")\n",
        "        prompt = f\"Illustration of {text}\"\n",
        "        generate_image(prompt, i+1)\n",
        "        print(f\"Page {i+1} completed.\")\n",
        "\n",
        "if __name__ == \"__main__\":\n",
        "    create_bedtime_story()\n"
      ],
      "execution_count": null,
      "outputs": [
        {
          "output_type": "stream",
          "name": "stdout",
          "text": [
            "Generating Page 1...\n",
            "Error generating image for page 1: \n",
            "\n",
            "You tried to access openai.Image, but this is no longer supported in openai>=1.0.0 - see the README at https://github.com/openai/openai-python for the API.\n",
            "\n",
            "You can run `openai migrate` to automatically upgrade your codebase to use the 1.0.0 interface. \n",
            "\n",
            "Alternatively, you can pin your installation to the old version, e.g. `pip install openai==0.28`\n",
            "\n",
            "A detailed migration guide is available here: https://github.com/openai/openai-python/discussions/742\n",
            "\n",
            "Page 1 completed.\n",
            "Generating Page 2...\n",
            "Error generating image for page 2: \n",
            "\n",
            "You tried to access openai.Image, but this is no longer supported in openai>=1.0.0 - see the README at https://github.com/openai/openai-python for the API.\n",
            "\n",
            "You can run `openai migrate` to automatically upgrade your codebase to use the 1.0.0 interface. \n",
            "\n",
            "Alternatively, you can pin your installation to the old version, e.g. `pip install openai==0.28`\n",
            "\n",
            "A detailed migration guide is available here: https://github.com/openai/openai-python/discussions/742\n",
            "\n",
            "Page 2 completed.\n",
            "Generating Page 3...\n",
            "Error generating image for page 3: \n",
            "\n",
            "You tried to access openai.Image, but this is no longer supported in openai>=1.0.0 - see the README at https://github.com/openai/openai-python for the API.\n",
            "\n",
            "You can run `openai migrate` to automatically upgrade your codebase to use the 1.0.0 interface. \n",
            "\n",
            "Alternatively, you can pin your installation to the old version, e.g. `pip install openai==0.28`\n",
            "\n",
            "A detailed migration guide is available here: https://github.com/openai/openai-python/discussions/742\n",
            "\n",
            "Page 3 completed.\n",
            "Generating Page 4...\n",
            "Error generating image for page 4: \n",
            "\n",
            "You tried to access openai.Image, but this is no longer supported in openai>=1.0.0 - see the README at https://github.com/openai/openai-python for the API.\n",
            "\n",
            "You can run `openai migrate` to automatically upgrade your codebase to use the 1.0.0 interface. \n",
            "\n",
            "Alternatively, you can pin your installation to the old version, e.g. `pip install openai==0.28`\n",
            "\n",
            "A detailed migration guide is available here: https://github.com/openai/openai-python/discussions/742\n",
            "\n",
            "Page 4 completed.\n",
            "Generating Page 5...\n",
            "Error generating image for page 5: \n",
            "\n",
            "You tried to access openai.Image, but this is no longer supported in openai>=1.0.0 - see the README at https://github.com/openai/openai-python for the API.\n",
            "\n",
            "You can run `openai migrate` to automatically upgrade your codebase to use the 1.0.0 interface. \n",
            "\n",
            "Alternatively, you can pin your installation to the old version, e.g. `pip install openai==0.28`\n",
            "\n",
            "A detailed migration guide is available here: https://github.com/openai/openai-python/discussions/742\n",
            "\n",
            "Page 5 completed.\n",
            "Generating Page 6...\n",
            "Error generating image for page 6: \n",
            "\n",
            "You tried to access openai.Image, but this is no longer supported in openai>=1.0.0 - see the README at https://github.com/openai/openai-python for the API.\n",
            "\n",
            "You can run `openai migrate` to automatically upgrade your codebase to use the 1.0.0 interface. \n",
            "\n",
            "Alternatively, you can pin your installation to the old version, e.g. `pip install openai==0.28`\n",
            "\n",
            "A detailed migration guide is available here: https://github.com/openai/openai-python/discussions/742\n",
            "\n",
            "Page 6 completed.\n",
            "Generating Page 7...\n",
            "Error generating image for page 7: \n",
            "\n",
            "You tried to access openai.Image, but this is no longer supported in openai>=1.0.0 - see the README at https://github.com/openai/openai-python for the API.\n",
            "\n",
            "You can run `openai migrate` to automatically upgrade your codebase to use the 1.0.0 interface. \n",
            "\n",
            "Alternatively, you can pin your installation to the old version, e.g. `pip install openai==0.28`\n",
            "\n",
            "A detailed migration guide is available here: https://github.com/openai/openai-python/discussions/742\n",
            "\n",
            "Page 7 completed.\n",
            "Generating Page 8...\n",
            "Error generating image for page 8: \n",
            "\n",
            "You tried to access openai.Image, but this is no longer supported in openai>=1.0.0 - see the README at https://github.com/openai/openai-python for the API.\n",
            "\n",
            "You can run `openai migrate` to automatically upgrade your codebase to use the 1.0.0 interface. \n",
            "\n",
            "Alternatively, you can pin your installation to the old version, e.g. `pip install openai==0.28`\n",
            "\n",
            "A detailed migration guide is available here: https://github.com/openai/openai-python/discussions/742\n",
            "\n",
            "Page 8 completed.\n",
            "Generating Page 9...\n",
            "Error generating image for page 9: \n",
            "\n",
            "You tried to access openai.Image, but this is no longer supported in openai>=1.0.0 - see the README at https://github.com/openai/openai-python for the API.\n",
            "\n",
            "You can run `openai migrate` to automatically upgrade your codebase to use the 1.0.0 interface. \n",
            "\n",
            "Alternatively, you can pin your installation to the old version, e.g. `pip install openai==0.28`\n",
            "\n",
            "A detailed migration guide is available here: https://github.com/openai/openai-python/discussions/742\n",
            "\n",
            "Page 9 completed.\n",
            "Generating Page 10...\n",
            "Error generating image for page 10: \n",
            "\n",
            "You tried to access openai.Image, but this is no longer supported in openai>=1.0.0 - see the README at https://github.com/openai/openai-python for the API.\n",
            "\n",
            "You can run `openai migrate` to automatically upgrade your codebase to use the 1.0.0 interface. \n",
            "\n",
            "Alternatively, you can pin your installation to the old version, e.g. `pip install openai==0.28`\n",
            "\n",
            "A detailed migration guide is available here: https://github.com/openai/openai-python/discussions/742\n",
            "\n",
            "Page 10 completed.\n"
          ]
        }
      ]
    }
  ]
}